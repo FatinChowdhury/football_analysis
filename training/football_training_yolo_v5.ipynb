!pip install ultralytics
!pip install roboflow

# Get Dataset

from roboflow import Roboflow
rf = Roboflow(api_key="i6hFQz1qXYB26zO2OYO1")
project = rf.workspace("roboflow-jvuqo").project("football-players-detection-3zvbc")
version = project.version(1)
dataset = version.download("yolov5")

